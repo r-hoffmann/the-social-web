{
 "cells": [
  {
   "cell_type": "code",
   "execution_count": 2,
   "metadata": {},
   "outputs": [],
   "source": [
    "import pandas as pd\n",
    "import requests\n",
    "import urllib.request\n",
    "import time\n",
    "from bs4 import BeautifulSoup"
   ]
  },
  {
   "cell_type": "code",
   "execution_count": 3,
   "metadata": {},
   "outputs": [
    {
     "name": "stdout",
     "output_type": "stream",
     "text": [
      "30473\n"
     ]
    }
   ],
   "source": [
    "tweet_ids = []\n",
    "for month in ['2018-01', '2018-02', '2018-12', '2019-05', '2019-09', '2019-10', '2019-11', '2019-12', '2020-01', '2020-02']:\n",
    "    with open(f'{month}_tweetIds_0.txt') as f:\n",
    "        tweet_ids += [x.strip() for x in f.readlines()]\n",
    "print(len(tweet_ids))"
   ]
  },
  {
   "cell_type": "code",
   "execution_count": 4,
   "metadata": {},
   "outputs": [
    {
     "name": "stdout",
     "output_type": "stream",
     "text": [
      "958752357420060672\n"
     ]
    }
   ],
   "source": [
    "print(tweet_ids[0])"
   ]
  },
  {
   "cell_type": "code",
   "execution_count": null,
   "metadata": {},
   "outputs": [],
   "source": [
    "l = len(tweet_ids)\n",
    "tweets = []\n",
    "for i, tweet_id in enumerate(tweet_ids):\n",
    "    link = f\"https://twitter.com/ethstatuts/status/{tweet_id}\"\n",
    "    response = requests.get(link)\n",
    "\n",
    "    tweet = {\n",
    "        'id': tweet_id,\n",
    "        'content': response.text\n",
    "    }\n",
    "    tweets.append(tweet)\n",
    "    if i+1 % 100==0:\n",
    "        print(f'{i}/{l} done')\n",
    "        tweets_df = pd.DataFrame(tweets)\n",
    "        tweets_df.to_csv(f'tweets_{i}.csv')\n",
    "        tweets = []"
   ]
  },
  {
   "cell_type": "code",
   "execution_count": null,
   "metadata": {},
   "outputs": [],
   "source": []
  },
  {
   "cell_type": "code",
   "execution_count": null,
   "metadata": {},
   "outputs": [],
   "source": []
  }
 ],
 "metadata": {
  "kernelspec": {
   "display_name": "Python 3",
   "language": "python",
   "name": "python3"
  },
  "language_info": {
   "codemirror_mode": {
    "name": "ipython",
    "version": 3
   },
   "file_extension": ".py",
   "mimetype": "text/x-python",
   "name": "python",
   "nbconvert_exporter": "python",
   "pygments_lexer": "ipython3",
   "version": "3.8.1"
  }
 },
 "nbformat": 4,
 "nbformat_minor": 4
}
